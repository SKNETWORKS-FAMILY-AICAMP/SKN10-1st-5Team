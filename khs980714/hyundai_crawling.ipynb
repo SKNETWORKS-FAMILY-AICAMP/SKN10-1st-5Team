{
 "cells": [
  {
   "cell_type": "code",
   "execution_count": 17,
   "metadata": {},
   "outputs": [],
   "source": [
    "from selenium import webdriver\n",
    "from selenium.webdriver.common.by import By\n",
    "from selenium.webdriver.chrome.service import Service\n",
    "from selenium.webdriver.support.ui import WebDriverWait\n",
    "from selenium.webdriver.support import expected_conditions as EC\n",
    "from selenium.webdriver.chrome.options import Options\n",
    "import pandas as pd\n",
    "import time"
   ]
  },
  {
   "cell_type": "code",
   "execution_count": 27,
   "metadata": {},
   "outputs": [
    {
     "name": "stdout",
     "output_type": "stream",
     "text": [
      "차량구매 1\n",
      "차량구매 2\n",
      "차량구매 3\n",
      "차량구매 4\n",
      "차량정비 1\n",
      "차량정비 2\n",
      "차량정비 3\n",
      "차량정비 4\n",
      "홈페이지 1\n",
      "홈페이지 2\n",
      "홈페이지 3\n",
      "홈페이지 4\n",
      "블루멤버스 1\n",
      "블루멤버스 4\n",
      "모젠서비스 1\n",
      "모젠서비스 2\n",
      "모젠서비스 3\n",
      "모젠서비스 4\n",
      "모젠서비스 5\n",
      "모젠서비스 6\n",
      "모젠서비스 8\n",
      "블루링크 1\n",
      "블루링크 2\n",
      "블루링크 3\n",
      "현대 디지털 키 1\n",
      "현대 디지털 키 3\n",
      "빌트인캠 1\n",
      "기타 1\n"
     ]
    }
   ],
   "source": [
    "# Selenium WebDriver 설정\n",
    "chrome_options = Options()\n",
    "# chrome_options.add_argument('--headless')\n",
    "chrome_options.add_argument('--no-sandbox')\n",
    "chrome_options.add_argument('--disable-dev-shm-usage')\n",
    "\n",
    "service = Service('chromedriver.exe')\n",
    "driver = webdriver.Chrome(service=service, options=chrome_options)\n",
    "\n",
    "url = \"https://www.hyundai.com/kr/ko/e/customer/center/faq\"\n",
    "\n",
    "faq = []\n",
    "\n",
    "driver.get(url)\n",
    "time.sleep(1)  # 페이지 로딩 시간 대기\n",
    "\n",
    "for i in range(1, 10):\n",
    "  menu = driver.find_element(By.XPATH, f'//*[@id=\"app\"]/div[3]/section/div[2]/div/div[2]/section/div/div[1]/div[1]/ul/li[{i}]/button/span')\n",
    "  driver.execute_script(\"arguments[0].click();\", menu)\n",
    "  time.sleep(1)\n",
    "  num = driver.find_elements(By.CLASS_NAME, 'number')\n",
    "  for n in num:\n",
    "    print(menu.text, n.text)\n",
    "    driver.execute_script(\"arguments[0].click();\", n)\n",
    "    time.sleep(1)\n",
    "    questions = driver.find_elements(By.CLASS_NAME, 'list-content')\n",
    "    for question in questions:\n",
    "      driver.execute_script(\"arguments[0].click();\", question)\n",
    "      time.sleep(1)\n",
    "      answer = driver.find_element(By.CLASS_NAME, 'conts')\n",
    "      faq.append([menu.text.strip(''''\"'''), question.text.strip(''''\"'''), answer.text.strip(''''\"''').replace('\\n', ' ')])\n",
    "driver.quit()"
   ]
  },
  {
   "cell_type": "code",
   "execution_count": 24,
   "metadata": {},
   "outputs": [],
   "source": [
    "driver.quit()"
   ]
  },
  {
   "cell_type": "code",
   "execution_count": 34,
   "metadata": {},
   "outputs": [
    {
     "name": "stdout",
     "output_type": "stream",
     "text": [
      "차량구매\n",
      "차량정비\n",
      "홈페이지\n",
      "블루멤버스\n",
      "모젠서비스\n",
      "블루링크\n",
      "현대 디지털 키\n",
      "빌트인캠\n",
      "기타\n"
     ]
    }
   ],
   "source": [
    "for menu in menus:\n",
    "  print(menu.text)"
   ]
  },
  {
   "cell_type": "code",
   "execution_count": 95,
   "metadata": {},
   "outputs": [
    {
     "data": {
      "text/plain": [
       "[['차량구매',\n",
       "  '보유중인 자동차를 팔고 싶은데, 어떻게 하면 좋을까요?',\n",
       "  '현대 인증중고차 (certified.hyundai.com) 의 내차팔기 서비스를 통해 판매할 수 있습니다. 자세한 사항은 현대 인증중고차 사이트에서 확인해 주세요. 현대 인증중고차 사이트 바로가기▶'],\n",
       " ['차량구매',\n",
       "  '포인트는 어떻게 활용하나요?',\n",
       "  '포인트는 블루멤버스 사이트 내에서 현금 처럼 사용 하실 수 있으며, 고객님께서 블루핸즈 서비스를 받으실 때도 현금처럼 지불 하실 수 있습니다'],\n",
       " ['차량구매',\n",
       "  '폐차 의뢰 및 신청은 어떻게 하나요?',\n",
       "  \"서비스/멤버십 > 내차 항목의 '친환경 폐차 신청'으로 들어가셔서 신청하시는 것이 가장 신속하고 정확합니다. 인터넷 신청이 불편하시면 유선전화 (1544-2738)로 문의하셔서 폐차 신청을 할 수 있습니다.\"],\n",
       " ['차량구매',\n",
       "  '차량구입시 신용카드는 얼마까지 이용할 수 있나요?',\n",
       "  '▶ 자동차 구입시 신용카드를 이용한 결제는 고객님 신용카드 한도내에서 희망하시는 금액      까지 자유로이 결제가 가능합니다.'],\n",
       " ['차량구매',\n",
       "  '차량구입시 신용카드는 복수의 카드로 결제가 가능한가요?',\n",
       "  '▶ 예, 가능합니다. 신용카드 갯수에 제한없이 결제가 가능합니다.']]"
      ]
     },
     "execution_count": 95,
     "metadata": {},
     "output_type": "execute_result"
    }
   ],
   "source": [
    "faq[:5]"
   ]
  },
  {
   "cell_type": "code",
   "execution_count": 28,
   "metadata": {},
   "outputs": [],
   "source": [
    "hyundai = pd.DataFrame(faq, columns = ['Categorie', 'Question', 'Answer'])"
   ]
  },
  {
   "cell_type": "code",
   "execution_count": 29,
   "metadata": {},
   "outputs": [],
   "source": [
    "hyundai.to_csv('hyundai.csv', encoding = 'utf-8')"
   ]
  },
  {
   "cell_type": "code",
   "execution_count": 52,
   "metadata": {},
   "outputs": [],
   "source": [
    "dic = {}\n",
    "\n",
    "menu = ['차량구매', '차량정비', '홈페이지', '블루멤버스', '모젠서비스', '블루링크', '현대 디지털 키', '빌트인캠', '기타']\n",
    "\n",
    "for i in menu:\n",
    "  dic[i] = {}"
   ]
  },
  {
   "cell_type": "code",
   "execution_count": 55,
   "metadata": {},
   "outputs": [],
   "source": [
    "dic['차량구매']['딕셔너리 이름'] = ''"
   ]
  },
  {
   "cell_type": "code",
   "execution_count": 56,
   "metadata": {},
   "outputs": [
    {
     "data": {
      "text/plain": [
       "{'차량구매': {'딕셔너리 이름': ''},\n",
       " '차량정비': {},\n",
       " '홈페이지': {},\n",
       " '블루멤버스': {},\n",
       " '모젠서비스': {},\n",
       " '블루링크': {},\n",
       " '현대 디지털 키': {},\n",
       " '빌트인캠': {},\n",
       " '기타': {}}"
      ]
     },
     "execution_count": 56,
     "metadata": {},
     "output_type": "execute_result"
    }
   ],
   "source": [
    "dic"
   ]
  },
  {
   "cell_type": "code",
   "execution_count": null,
   "metadata": {},
   "outputs": [],
   "source": []
  }
 ],
 "metadata": {
  "kernelspec": {
   "display_name": ".venv",
   "language": "python",
   "name": "python3"
  },
  "language_info": {
   "codemirror_mode": {
    "name": "ipython",
    "version": 3
   },
   "file_extension": ".py",
   "mimetype": "text/x-python",
   "name": "python",
   "nbconvert_exporter": "python",
   "pygments_lexer": "ipython3",
   "version": "3.13.1"
  }
 },
 "nbformat": 4,
 "nbformat_minor": 2
}
